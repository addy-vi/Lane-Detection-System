{
 "cells": [
  {
   "cell_type": "code",
   "execution_count": null,
   "metadata": {},
   "outputs": [],
   "source": [
    "import cv2\n",
    "import numpy as np\n",
    "import os"
   ]
  },
  {
   "cell_type": "code",
   "execution_count": null,
   "metadata": {},
   "outputs": [],
   "source": [
    "cap = cv2.VideoCapture('Lane Detection.mp4')\n",
    "\n",
    "while True:\n",
    "    ret, frame = cap.read()\n",
    "    if not ret:\n",
    "        print(\"end of video.\")\n",
    "        break\n",
    "    gray=cv2.cvtColor(frame, cv2.COLOR_BGR2GRAY)\n",
    "    gur=cv2.GaussianBlur(gray,(5,5),0)\n",
    "    can=cv2.Canny(gur, 50, 150)\n",
    "\n",
    "    height, width=can.shape\n",
    "    mask=np.zeros_like(can)\n",
    "    roi=[(0, height), (width // 2, height // 2), (width, height)]\n",
    "    cv2.fillPoly(mask, np.array([roi], np.int32), 255)\n",
    "    masked=cv2.bitwise_and(can, mask)\n",
    "\n",
    "    line=cv2.HoughLinesP(masked, 2, np.pi/180, threshold=100, minLineLength=50, maxLineGap=150)\n",
    "    \n",
    "    if line is not None:\n",
    "        for i in line:\n",
    "            for x1,y1,x2,y2 in i:\n",
    "                cv2.line(frame, (x1,y1), (x2,y2), (0,255,0), 5)\n",
    "    \n",
    "    cv2.imshow('Video', frame)\n",
    "    if cv2.waitKey(10) == ord('q'):\n",
    "        break\n",
    "\n",
    "cap.release()\n",
    "cv2.destroyAllWindows()"
   ]
  }
 ],
 "metadata": {
  "kernelspec": {
   "display_name": "Python 3",
   "language": "python",
   "name": "python3"
  },
  "language_info": {
   "codemirror_mode": {
    "name": "ipython",
    "version": 3
   },
   "file_extension": ".py",
   "mimetype": "text/x-python",
   "name": "python",
   "nbconvert_exporter": "python",
   "pygments_lexer": "ipython3",
   "version": "3.11.9"
  }
 },
 "nbformat": 4,
 "nbformat_minor": 2
}
